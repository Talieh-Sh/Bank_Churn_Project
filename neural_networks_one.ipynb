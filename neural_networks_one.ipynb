{
 "cells": [
  {
   "cell_type": "code",
   "execution_count": 8,
   "metadata": {},
   "outputs": [],
   "source": [
    "# Import our dependencies\n",
    "from sklearn.model_selection import train_test_split\n",
    "from sklearn.preprocessing import StandardScaler\n",
    "from sklearn.metrics import accuracy_score\n",
    "import pandas as pd\n",
    "import tensorflow as tf"
   ]
  },
  {
   "cell_type": "code",
   "execution_count": 9,
   "metadata": {},
   "outputs": [
    {
     "data": {
      "text/html": [
       "<div>\n",
       "<style scoped>\n",
       "    .dataframe tbody tr th:only-of-type {\n",
       "        vertical-align: middle;\n",
       "    }\n",
       "\n",
       "    .dataframe tbody tr th {\n",
       "        vertical-align: top;\n",
       "    }\n",
       "\n",
       "    .dataframe thead th {\n",
       "        text-align: right;\n",
       "    }\n",
       "</style>\n",
       "<table border=\"1\" class=\"dataframe\">\n",
       "  <thead>\n",
       "    <tr style=\"text-align: right;\">\n",
       "      <th></th>\n",
       "      <th>id</th>\n",
       "      <th>CustomerId</th>\n",
       "      <th>Surname</th>\n",
       "      <th>CreditScore</th>\n",
       "      <th>Geography</th>\n",
       "      <th>Gender</th>\n",
       "      <th>Age</th>\n",
       "      <th>Tenure</th>\n",
       "      <th>Balance</th>\n",
       "      <th>NumOfProducts</th>\n",
       "      <th>HasCrCard</th>\n",
       "      <th>IsActiveMember</th>\n",
       "      <th>EstimatedSalary</th>\n",
       "      <th>Exited</th>\n",
       "    </tr>\n",
       "  </thead>\n",
       "  <tbody>\n",
       "    <tr>\n",
       "      <th>0</th>\n",
       "      <td>0</td>\n",
       "      <td>15674932</td>\n",
       "      <td>Okwudilichukwu</td>\n",
       "      <td>668</td>\n",
       "      <td>France</td>\n",
       "      <td>Male</td>\n",
       "      <td>33.0</td>\n",
       "      <td>3</td>\n",
       "      <td>0.00</td>\n",
       "      <td>2</td>\n",
       "      <td>1.0</td>\n",
       "      <td>0.0</td>\n",
       "      <td>181449.97</td>\n",
       "      <td>0</td>\n",
       "    </tr>\n",
       "    <tr>\n",
       "      <th>1</th>\n",
       "      <td>1</td>\n",
       "      <td>15749177</td>\n",
       "      <td>Okwudiliolisa</td>\n",
       "      <td>627</td>\n",
       "      <td>France</td>\n",
       "      <td>Male</td>\n",
       "      <td>33.0</td>\n",
       "      <td>1</td>\n",
       "      <td>0.00</td>\n",
       "      <td>2</td>\n",
       "      <td>1.0</td>\n",
       "      <td>1.0</td>\n",
       "      <td>49503.50</td>\n",
       "      <td>0</td>\n",
       "    </tr>\n",
       "    <tr>\n",
       "      <th>2</th>\n",
       "      <td>2</td>\n",
       "      <td>15694510</td>\n",
       "      <td>Hsueh</td>\n",
       "      <td>678</td>\n",
       "      <td>France</td>\n",
       "      <td>Male</td>\n",
       "      <td>40.0</td>\n",
       "      <td>10</td>\n",
       "      <td>0.00</td>\n",
       "      <td>2</td>\n",
       "      <td>1.0</td>\n",
       "      <td>0.0</td>\n",
       "      <td>184866.69</td>\n",
       "      <td>0</td>\n",
       "    </tr>\n",
       "    <tr>\n",
       "      <th>3</th>\n",
       "      <td>3</td>\n",
       "      <td>15741417</td>\n",
       "      <td>Kao</td>\n",
       "      <td>581</td>\n",
       "      <td>France</td>\n",
       "      <td>Male</td>\n",
       "      <td>34.0</td>\n",
       "      <td>2</td>\n",
       "      <td>148882.54</td>\n",
       "      <td>1</td>\n",
       "      <td>1.0</td>\n",
       "      <td>1.0</td>\n",
       "      <td>84560.88</td>\n",
       "      <td>0</td>\n",
       "    </tr>\n",
       "    <tr>\n",
       "      <th>4</th>\n",
       "      <td>4</td>\n",
       "      <td>15766172</td>\n",
       "      <td>Chiemenam</td>\n",
       "      <td>716</td>\n",
       "      <td>Spain</td>\n",
       "      <td>Male</td>\n",
       "      <td>33.0</td>\n",
       "      <td>5</td>\n",
       "      <td>0.00</td>\n",
       "      <td>2</td>\n",
       "      <td>1.0</td>\n",
       "      <td>1.0</td>\n",
       "      <td>15068.83</td>\n",
       "      <td>0</td>\n",
       "    </tr>\n",
       "  </tbody>\n",
       "</table>\n",
       "</div>"
      ],
      "text/plain": [
       "   id  CustomerId         Surname  CreditScore Geography Gender   Age  Tenure  \\\n",
       "0   0    15674932  Okwudilichukwu          668    France   Male  33.0       3   \n",
       "1   1    15749177   Okwudiliolisa          627    France   Male  33.0       1   \n",
       "2   2    15694510           Hsueh          678    France   Male  40.0      10   \n",
       "3   3    15741417             Kao          581    France   Male  34.0       2   \n",
       "4   4    15766172       Chiemenam          716     Spain   Male  33.0       5   \n",
       "\n",
       "     Balance  NumOfProducts  HasCrCard  IsActiveMember  EstimatedSalary  \\\n",
       "0       0.00              2        1.0             0.0        181449.97   \n",
       "1       0.00              2        1.0             1.0         49503.50   \n",
       "2       0.00              2        1.0             0.0        184866.69   \n",
       "3  148882.54              1        1.0             1.0         84560.88   \n",
       "4       0.00              2        1.0             1.0         15068.83   \n",
       "\n",
       "   Exited  \n",
       "0       0  \n",
       "1       0  \n",
       "2       0  \n",
       "3       0  \n",
       "4       0  "
      ]
     },
     "execution_count": 9,
     "metadata": {},
     "output_type": "execute_result"
    }
   ],
   "source": [
    "dataframe = pd.read_csv(\"train.csv\")\n",
    "dataframe.head()"
   ]
  },
  {
   "cell_type": "code",
   "execution_count": 10,
   "metadata": {},
   "outputs": [
    {
     "data": {
      "text/plain": [
       "array(['Male', 'Female'], dtype=object)"
      ]
     },
     "execution_count": 10,
     "metadata": {},
     "output_type": "execute_result"
    }
   ],
   "source": [
    "dataframe['Gender'].unique()"
   ]
  },
  {
   "cell_type": "code",
   "execution_count": 11,
   "metadata": {},
   "outputs": [],
   "source": [
    "dataframe['Gender'].replace(['Male','Female'],[0,1], inplace=True)"
   ]
  },
  {
   "cell_type": "code",
   "execution_count": 12,
   "metadata": {},
   "outputs": [
    {
     "data": {
      "text/plain": [
       "array(['France', 'Spain', 'Germany'], dtype=object)"
      ]
     },
     "execution_count": 12,
     "metadata": {},
     "output_type": "execute_result"
    }
   ],
   "source": [
    "dataframe['Geography'].unique()"
   ]
  },
  {
   "cell_type": "code",
   "execution_count": 13,
   "metadata": {},
   "outputs": [],
   "source": [
    "dataframe['Geography'].replace(['France', 'Spain', 'Germany'],[0,1,2], inplace=True)"
   ]
  },
  {
   "cell_type": "code",
   "execution_count": 14,
   "metadata": {},
   "outputs": [],
   "source": [
    "y = dataframe.Exited.values\n",
    "X = dataframe.drop(columns=['id','CustomerId','Surname'])\n",
    "X_train, X_test, y_train, y_test = train_test_split(X, y, random_state=42, stratify=y)"
   ]
  },
  {
   "cell_type": "code",
   "execution_count": 15,
   "metadata": {},
   "outputs": [],
   "source": [
    "scaler = StandardScaler()\n",
    "\n",
    "X_scaler = scaler.fit(X_train)\n",
    "\n",
    "X_train_scaled = X_scaler.transform(X_train)\n",
    "X_test_scaled = X_scaler.transform(X_test)"
   ]
  },
  {
   "cell_type": "code",
   "execution_count": 16,
   "metadata": {},
   "outputs": [
    {
     "name": "stdout",
     "output_type": "stream",
     "text": [
      "Epoch 1/50\n",
      "WARNING:tensorflow:From c:\\Users\\Simon\\anaconda3\\Lib\\site-packages\\keras\\src\\utils\\tf_utils.py:492: The name tf.ragged.RaggedTensorValue is deprecated. Please use tf.compat.v1.ragged.RaggedTensorValue instead.\n",
      "\n",
      "WARNING:tensorflow:From c:\\Users\\Simon\\anaconda3\\Lib\\site-packages\\keras\\src\\engine\\base_layer_utils.py:384: The name tf.executing_eagerly_outside_functions is deprecated. Please use tf.compat.v1.executing_eagerly_outside_functions instead.\n",
      "\n",
      "3868/3868 [==============================] - 3s 702us/step - loss: 0.0215 - accuracy: 0.9936\n",
      "Epoch 2/50\n",
      "3868/3868 [==============================] - 3s 703us/step - loss: 1.1742e-05 - accuracy: 1.0000\n",
      "Epoch 3/50\n",
      "3868/3868 [==============================] - 3s 724us/step - loss: 1.0750e-06 - accuracy: 1.0000\n",
      "Epoch 4/50\n",
      "3868/3868 [==============================] - 3s 705us/step - loss: 1.2313e-07 - accuracy: 1.0000\n",
      "Epoch 5/50\n",
      "3868/3868 [==============================] - 3s 701us/step - loss: 1.5430e-08 - accuracy: 1.0000\n",
      "Epoch 6/50\n",
      "3868/3868 [==============================] - 3s 710us/step - loss: 2.4026e-09 - accuracy: 1.0000\n",
      "Epoch 7/50\n",
      "3868/3868 [==============================] - 3s 702us/step - loss: 6.2871e-10 - accuracy: 1.0000\n",
      "Epoch 8/50\n",
      "3868/3868 [==============================] - 3s 715us/step - loss: 2.8407e-10 - accuracy: 1.0000\n",
      "Epoch 9/50\n",
      "3868/3868 [==============================] - 3s 707us/step - loss: 1.8070e-10 - accuracy: 1.0000\n",
      "Epoch 10/50\n",
      "3868/3868 [==============================] - 3s 707us/step - loss: 1.3670e-10 - accuracy: 1.0000\n",
      "Epoch 11/50\n",
      "3868/3868 [==============================] - 3s 708us/step - loss: 1.1553e-10 - accuracy: 1.0000\n",
      "Epoch 12/50\n",
      "3868/3868 [==============================] - 3s 701us/step - loss: 9.8418e-11 - accuracy: 1.0000\n",
      "Epoch 13/50\n",
      "3868/3868 [==============================] - 3s 718us/step - loss: 8.8669e-11 - accuracy: 1.0000\n",
      "Epoch 14/50\n",
      "3868/3868 [==============================] - 3s 718us/step - loss: 8.1794e-11 - accuracy: 1.0000\n",
      "Epoch 15/50\n",
      "3868/3868 [==============================] - 3s 714us/step - loss: 7.7256e-11 - accuracy: 1.0000\n",
      "Epoch 16/50\n",
      "3868/3868 [==============================] - 3s 710us/step - loss: 7.3358e-11 - accuracy: 1.0000\n",
      "Epoch 17/50\n",
      "3868/3868 [==============================] - 3s 719us/step - loss: 7.0031e-11 - accuracy: 1.0000\n",
      "Epoch 18/50\n",
      "3868/3868 [==============================] - 3s 714us/step - loss: 6.7122e-11 - accuracy: 1.0000\n",
      "Epoch 19/50\n",
      "3868/3868 [==============================] - 3s 706us/step - loss: 6.5330e-11 - accuracy: 1.0000\n",
      "Epoch 20/50\n",
      "3868/3868 [==============================] - 3s 713us/step - loss: 6.3444e-11 - accuracy: 1.0000\n",
      "Epoch 21/50\n",
      "3868/3868 [==============================] - 3s 704us/step - loss: 6.0269e-11 - accuracy: 1.0000\n",
      "Epoch 22/50\n",
      "3868/3868 [==============================] - 3s 702us/step - loss: 5.9057e-11 - accuracy: 1.0000\n",
      "Epoch 23/50\n",
      "3868/3868 [==============================] - 3s 705us/step - loss: 5.7546e-11 - accuracy: 1.0000\n",
      "Epoch 24/50\n",
      "3868/3868 [==============================] - 3s 708us/step - loss: 5.6263e-11 - accuracy: 1.0000\n",
      "Epoch 25/50\n",
      "3868/3868 [==============================] - 3s 702us/step - loss: 5.5436e-11 - accuracy: 1.0000\n",
      "Epoch 26/50\n",
      "3868/3868 [==============================] - 3s 690us/step - loss: 5.4626e-11 - accuracy: 1.0000\n",
      "Epoch 27/50\n",
      "3868/3868 [==============================] - 3s 697us/step - loss: 5.3481e-11 - accuracy: 1.0000\n",
      "Epoch 28/50\n",
      "3868/3868 [==============================] - 3s 700us/step - loss: 5.2215e-11 - accuracy: 1.0000\n",
      "Epoch 29/50\n",
      "3868/3868 [==============================] - 3s 701us/step - loss: 5.1285e-11 - accuracy: 1.0000\n",
      "Epoch 30/50\n",
      "3868/3868 [==============================] - 3s 703us/step - loss: 4.9883e-11 - accuracy: 1.0000\n",
      "Epoch 31/50\n",
      "3868/3868 [==============================] - 3s 691us/step - loss: 4.9358e-11 - accuracy: 1.0000\n",
      "Epoch 32/50\n",
      "3868/3868 [==============================] - 3s 686us/step - loss: 4.8527e-11 - accuracy: 1.0000\n",
      "Epoch 33/50\n",
      "3868/3868 [==============================] - 3s 694us/step - loss: 4.7495e-11 - accuracy: 1.0000\n",
      "Epoch 34/50\n",
      "3868/3868 [==============================] - 3s 697us/step - loss: 4.6563e-11 - accuracy: 1.0000\n",
      "Epoch 35/50\n",
      "3868/3868 [==============================] - 3s 696us/step - loss: 4.5403e-11 - accuracy: 1.0000\n",
      "Epoch 36/50\n",
      "3868/3868 [==============================] - 3s 693us/step - loss: 4.4450e-11 - accuracy: 1.0000\n",
      "Epoch 37/50\n",
      "3868/3868 [==============================] - 3s 698us/step - loss: 4.3693e-11 - accuracy: 1.0000\n",
      "Epoch 38/50\n",
      "3868/3868 [==============================] - 3s 693us/step - loss: 4.3289e-11 - accuracy: 1.0000\n",
      "Epoch 39/50\n",
      "3868/3868 [==============================] - 3s 699us/step - loss: 4.1854e-11 - accuracy: 1.0000\n",
      "Epoch 40/50\n",
      "3868/3868 [==============================] - 3s 703us/step - loss: 4.1514e-11 - accuracy: 1.0000\n",
      "Epoch 41/50\n",
      "3868/3868 [==============================] - 3s 701us/step - loss: 4.0378e-11 - accuracy: 1.0000\n",
      "Epoch 42/50\n",
      "3868/3868 [==============================] - 3s 704us/step - loss: 3.9912e-11 - accuracy: 1.0000\n",
      "Epoch 43/50\n",
      "3868/3868 [==============================] - 3s 703us/step - loss: 3.9810e-11 - accuracy: 1.0000\n",
      "Epoch 44/50\n",
      "3868/3868 [==============================] - 3s 702us/step - loss: 3.9368e-11 - accuracy: 1.0000\n",
      "Epoch 45/50\n",
      "3868/3868 [==============================] - 3s 749us/step - loss: 3.8738e-11 - accuracy: 1.0000\n",
      "Epoch 46/50\n",
      "3868/3868 [==============================] - 3s 740us/step - loss: 3.8494e-11 - accuracy: 1.0000\n",
      "Epoch 47/50\n",
      "3868/3868 [==============================] - 3s 829us/step - loss: 3.8206e-11 - accuracy: 1.0000\n",
      "Epoch 48/50\n",
      "3868/3868 [==============================] - 3s 727us/step - loss: 3.7498e-11 - accuracy: 1.0000\n",
      "Epoch 49/50\n",
      "3868/3868 [==============================] - 3s 712us/step - loss: 3.7191e-11 - accuracy: 1.0000\n",
      "Epoch 50/50\n",
      "3868/3868 [==============================] - 3s 708us/step - loss: 3.6902e-11 - accuracy: 1.0000\n",
      "1290/1290 - 1s - loss: 3.8424e-11 - accuracy: 1.0000 - 766ms/epoch - 594us/step\n",
      "Loss: 3.8423694781464235e-11, Accuracy: 1.0\n"
     ]
    }
   ],
   "source": [
    "# Define the deep learning model \n",
    "nn_model = tf.keras.models.Sequential()\n",
    "nn_model.add(tf.keras.layers.Dense(units=16, activation=\"relu\", input_dim=11))\n",
    "nn_model.add(tf.keras.layers.Dense(units=16, activation=\"relu\"))\n",
    "nn_model.add(tf.keras.layers.Dense(units=1, activation=\"sigmoid\"))\n",
    "\n",
    "# Compile the Sequential model together and customise metrics\n",
    "nn_model.compile(loss=\"binary_crossentropy\", optimizer=\"adam\", metrics=[\"accuracy\"])\n",
    "\n",
    "# Train the model\n",
    "fit_model = nn_model.fit(X_train_scaled, y_train, epochs=50)\n",
    "\n",
    "# Evaluate the model using the test data\n",
    "model_loss, model_accuracy = nn_model.evaluate(X_test_scaled,y_test,verbose=2)\n",
    "print(f\"Loss: {model_loss}, Accuracy: {model_accuracy}\")"
   ]
  },
  {
   "cell_type": "code",
   "execution_count": 18,
   "metadata": {},
   "outputs": [
    {
     "name": "stdout",
     "output_type": "stream",
     "text": [
      "5158/5158 [==============================] - 3s 545us/step\n"
     ]
    }
   ],
   "source": [
    "X_scaled = X_scaler.transform(X)\n",
    "\n",
    "predictions = nn_model.predict(X_scaled)\n",
    "\n",
    "predicted_labels = (predictions > 0.5).astype(int)"
   ]
  },
  {
   "cell_type": "code",
   "execution_count": 23,
   "metadata": {},
   "outputs": [],
   "source": [
    "predicted_df = pd.DataFrame(predicted_labels)"
   ]
  },
  {
   "cell_type": "code",
   "execution_count": 28,
   "metadata": {},
   "outputs": [
    {
     "name": "stdout",
     "output_type": "stream",
     "text": [
      "Confusion Matrix:\n",
      " [[130113      0]\n",
      " [     0  34921]]\n",
      "\n",
      "Classification Report:\n",
      "               precision    recall  f1-score   support\n",
      "\n",
      "           0       1.00      1.00      1.00    130113\n",
      "           1       1.00      1.00      1.00     34921\n",
      "\n",
      "    accuracy                           1.00    165034\n",
      "   macro avg       1.00      1.00      1.00    165034\n",
      "weighted avg       1.00      1.00      1.00    165034\n",
      "\n",
      "\n",
      "Accuracy Score: 1.0\n"
     ]
    }
   ],
   "source": [
    "from sklearn.metrics import confusion_matrix, classification_report, accuracy_score, roc_curve, auc\n",
    "\n",
    "conf_matrix = confusion_matrix(y, predicted_labels)\n",
    "\n",
    "class_report = classification_report(y, predicted_labels)\n",
    "\n",
    "accuracy = accuracy_score(y, predicted_labels)\n",
    "\n",
    "print(\"Confusion Matrix:\\n\", conf_matrix)\n",
    "print(\"\\nClassification Report:\\n\", class_report)\n",
    "print(\"\\nAccuracy Score:\", accuracy)"
   ]
  },
  {
   "cell_type": "code",
   "execution_count": null,
   "metadata": {},
   "outputs": [],
   "source": []
  },
  {
   "cell_type": "code",
   "execution_count": null,
   "metadata": {},
   "outputs": [],
   "source": []
  }
 ],
 "metadata": {
  "kernelspec": {
   "display_name": "base",
   "language": "python",
   "name": "python3"
  },
  "language_info": {
   "codemirror_mode": {
    "name": "ipython",
    "version": 3
   },
   "file_extension": ".py",
   "mimetype": "text/x-python",
   "name": "python",
   "nbconvert_exporter": "python",
   "pygments_lexer": "ipython3",
   "version": "3.11.4"
  }
 },
 "nbformat": 4,
 "nbformat_minor": 2
}
